{
 "cells": [
  {
   "cell_type": "code",
   "execution_count": null,
   "metadata": {
    "collapsed": false
   },
   "outputs": [],
   "source": [
    "#Task 1 -- #OCR\n",
    "\n",
    "import cv2\n",
    "import numpy as np\n",
    "from matplotlib import pyplot as plt\n",
    "%matplotlib inline"
   ]
  },
  {
   "cell_type": "code",
   "execution_count": null,
   "metadata": {
    "collapsed": false
   },
   "outputs": [],
   "source": [
    "img = cv2.imread('Images/Q1/text.jpg',0) #Source Image\n",
    "img2 = img.copy() #Use this so that we can draw \"Match\" on the original image.\n",
    "\n",
    "plt.imshow(img,cmap='gray')\n",
    "plt.title(\"Original Image\")\n",
    "\n",
    "template1 = cv2.imread('Images/Q1/Fonts/Ariel.jpg',0) #Template 1. \n",
    "template2 = cv2.imread('Images/Q1/Fonts/Calibari.jpg',0)\n",
    "template3 = cv2.imread('Images/Q1/Fonts/PlatinoLinotype.jpg',0)\n",
    "template4 = cv2.imread('Images/Q1/Fonts/TimesNewRoman.jpg',0)\n",
    "template5 = cv2.imread('Images/Q1/Fonts/Verdana.jpg',0)\n",
    "templates = []\n",
    "templates.append([template1,\"Ariel\"])\n",
    "templates.append([template2,\"Calibari\"])\n",
    "templates.append([template3,\"PlatinoLinotype\"])\n",
    "templates.append([template4,\"TimesNewRoman\"])\n",
    "templates.append([template5,\"Verdana\"])\n",
    "\n",
    "template = cv2.imread('Images/Q1/Fonts/PlatinoLinotype.jpg',0) #Template 1. \n",
    "\n",
    "w, h = template.shape[::-1]\n",
    "\n",
    "method = eval('cv2.TM_SQDIFF')"
   ]
  },
  {
   "cell_type": "markdown",
   "metadata": {},
   "source": [
    "# Apply template Matching\n",
    "\n"
   ]
  },
  {
   "cell_type": "code",
   "execution_count": null,
   "metadata": {
    "collapsed": false
   },
   "outputs": [],
   "source": [
    "\n",
    "def template_matching_font_type(img,template,title):\n",
    "    img = img2.copy()\n",
    "    res = cv2.matchTemplate(img,template,method) # Results Matrix. \n",
    "    min_val, max_val, min_loc, max_loc = cv2.minMaxLoc(res) #Identify max value. \n",
    "    \n",
    "    #we take the minimun value from the matching results matrix because we use the SSD method. \n",
    "    top_left = min_loc\n",
    "    bottom_right = (top_left[0] + w, top_left[1] + h)\n",
    "    cv2.rectangle(img,top_left, bottom_right, 0, 5) #DRAW BLACK RECTANGLE VALUE on Source image. \n",
    "    plt.figure(num=None, figsize=(8, 6), dpi=2500, facecolor='w', edgecolor='k')\n",
    "    plt.title(\"Matching Result Matrix %s\" %title)\n",
    "    plt.imshow(res,cmap = 'gray')\n",
    "    plt.savefig(\"Matching Result Matrix %s\" %title)\n",
    "    \n",
    "    plt.figure(num=None, figsize=(8, 6), dpi=2500, facecolor='w', edgecolor='k')\n",
    "    plt.title(\"Detecting Object %s\" %title)\n",
    "\n",
    "    plt.imshow(img,cmap = 'gray')\n",
    "    plt.savefig(\"Detecting Object %s\"%title)\n",
    "    \n",
    "    return (\"min value of %s = %d\") % (title,min_val)\n"
   ]
  },
  {
   "cell_type": "code",
   "execution_count": null,
   "metadata": {
    "collapsed": false
   },
   "outputs": [],
   "source": [
    "def all_templates(templates):\n",
    "    x = []\n",
    "    for a_template in templates:\n",
    "        x.append(template_matching_font_type(img,a_template[0],a_template[1]))\n",
    "    print x \n",
    "    return x"
   ]
  },
  {
   "cell_type": "code",
   "execution_count": null,
   "metadata": {
    "collapsed": false
   },
   "outputs": [],
   "source": [
    "x = all_templates(templates)"
   ]
  },
  {
   "cell_type": "code",
   "execution_count": null,
   "metadata": {
    "collapsed": false
   },
   "outputs": [],
   "source": []
  },
  {
   "cell_type": "markdown",
   "metadata": {},
   "source": [
    "# Part 2 - # Apply template Matching for font SIZE. \n"
   ]
  },
  {
   "cell_type": "code",
   "execution_count": null,
   "metadata": {
    "collapsed": false
   },
   "outputs": [],
   "source": [
    "# Apply template Matching for font SIZE. \n",
    "template1 = cv2.imread('Images/Q1/Sizes/10.jpg',0) #Template 1. \n",
    "template2 = cv2.imread('Images/Q1/Sizes/11.jpg',0)\n",
    "template3 = cv2.imread('Images/Q1/Sizes/12.jpg',0)\n",
    "template4 = cv2.imread('Images/Q1/Sizes/14.jpg',0)\n",
    "template5 = cv2.imread('Images/Q1/Sizes/16.jpg',0)\n",
    "templates_font = []\n",
    "templates_font.append([template1,\"size = 10\",\"Size 10\"])\n",
    "templates_font.append([template2,\"size = 11\",\"Size 11\"])\n",
    "templates_font.append([template3,\"size = 12\",\"Size 12\"])\n",
    "templates_font.append([template4,\"size = 14\",\"Size 14\"])\n",
    "templates_font.append([template5,\"size = 16\",\"Size 16\"])\n",
    "\n",
    "\n",
    "\n",
    "\n",
    "def template_matching_font_type(img,template,title):\n",
    "    img = img2.copy()\n",
    "    res = cv2.matchTemplate(img,template,method) # Results Matrix. \n",
    "    min_val, max_val, min_loc, max_loc = cv2.minMaxLoc(res) #Identify max value. \n",
    "    \n",
    "    #we take the minimun value from the matching results matrix because we use the SSD method. \n",
    "    top_left = min_loc\n",
    "    bottom_right = (top_left[0] + w, top_left[1] + h)\n",
    "    cv2.rectangle(img,top_left, bottom_right, 0, 5) #DRAW BLACK RECTANGLE VALUE on Source image. \n",
    "    plt.figure(num=None, figsize=(8, 6), dpi=2500, facecolor='w', edgecolor='k')\n",
    "    plt.title(\"Matching Result Matrix %s\" %title)\n",
    "    plt.imshow(res,cmap = 'gray')\n",
    "    plt.savefig(\"Matching Result Matrix %s\" %title)\n",
    "    \n",
    "    plt.figure(num=None, figsize=(8, 6), dpi=2500, facecolor='w', edgecolor='k')\n",
    "    plt.title(\"Detecting Object %s\" %title)\n",
    "\n",
    "    plt.imshow(img,cmap = 'gray')\n",
    "    plt.savefig(\"Detecting Object %s\"%title)\n",
    "    \n",
    "    return (\"min value of %s = %d\") % (title,min_val)\n"
   ]
  },
  {
   "cell_type": "code",
   "execution_count": null,
   "metadata": {
    "collapsed": false
   },
   "outputs": [],
   "source": [
    "y = all_templates(templates_font)"
   ]
  },
  {
   "cell_type": "markdown",
   "metadata": {},
   "source": [
    "# Part 3 -  Find how many times letters t and a appear? \n"
   ]
  },
  {
   "cell_type": "code",
   "execution_count": null,
   "metadata": {
    "collapsed": true
   },
   "outputs": [],
   "source": [
    "# Find how many times letters t and a appear? \n",
    "\n",
    "# 1. Read a,A,t,T templates.\n",
    "# 2. Get Res matrices\n",
    "# 3. Choose threshold\n",
    "# 4. Count number of matches\n",
    "# 5. Evaluate results.\n",
    "\n",
    "#1 \n",
    "template1 = cv2.imread('Images/Q1/Cropped_letter_templates/crop_lower_a.jpg',0) #Template 1. \n",
    "template2 = cv2.imread('Images/Q1/Cropped_letter_templates/lower t.jpeg',0)\n",
    "template3 = cv2.imread('Images/Q1/Cropped_letter_templates/upperA.jpeg',0)\n",
    "template4 = cv2.imread('Images/Q1/Cropped_letter_templates/upperT.jpeg',0)\n",
    "templates_letters = []\n",
    "templates_letters.append([template1,\"lower a\"])\n",
    "templates_letters.append([template2,\"lower t\"])\n",
    "templates_letters.append([template3,\"upper A\"])\n",
    "templates_letters.append([template4,\"upper T\"])\n",
    "\n",
    "\n"
   ]
  },
  {
   "cell_type": "code",
   "execution_count": null,
   "metadata": {
    "collapsed": false
   },
   "outputs": [],
   "source": [
    "# 2 \n",
    "def template_matching_res_matrices(img,template,title,threshold):\n",
    "    w, h = template.shape[::-1]\n",
    "\n",
    "    res = cv2.matchTemplate(img,template,method) # Results Matrix. \n",
    "    \n",
    "    #use to help set the threshold\n",
    "    min_val, max_val, min_loc, max_loc = cv2.minMaxLoc(res) #Identify max value. \n",
    "    \n",
    "    \n",
    "   \n",
    "    threshold = min_val+threshold  #Guess and check to determine this number.\n",
    "    print max_val\n",
    "    print threshold \n",
    "    print min_val\n",
    "    loc = np.where( res <= threshold)\n",
    "    count2 = 0\n",
    "    for pt in zip(*loc[::-1]):\n",
    "        cv2.rectangle(img, pt, (pt[0] + w, pt[1] + h), (0,0,255), 2)\n",
    "        count2+=1\n",
    "    \n",
    "    \n",
    "    \n",
    "    #we take the minimun value from the matching results matrix because we use the SSD method. \n",
    "    plt.figure(num=None, figsize=(8, 6), dpi=2500, facecolor='w', edgecolor='k')\n",
    "    plt.title(\"Matching Result Matrix %s\" %title)\n",
    "    plt.imshow(img,cmap = 'gray')\n",
    "    plt.savefig(\"with letter %s\" %title)\n",
    "    \n",
    "    return (\"Number of %s = %d , %d \") % (title,count, count2)\n"
   ]
  },
  {
   "cell_type": "code",
   "execution_count": null,
   "metadata": {
    "collapsed": false
   },
   "outputs": [],
   "source": [
    "img3 = img2.copy()\n",
    "plt.imshow(img3)\n",
    "#\n",
    "threshold = 300000\n",
    "\n",
    "# we replace template type and \"Upper T\" with different variations. \n",
    "\n",
    "a = template_matching_res_matrices(img3,template4,\"Upper T\",threshold)\n",
    "\n"
   ]
  },
  {
   "cell_type": "markdown",
   "metadata": {},
   "source": [
    "# Part 5 - Replace \"c\" with \"k\""
   ]
  },
  {
   "cell_type": "code",
   "execution_count": null,
   "metadata": {
    "collapsed": true
   },
   "outputs": [],
   "source": [
    "def template_matching_replace_c_k(img,template,title,threshold,draw):\n",
    "    \n",
    "    w, h = template.shape[::-1]\n",
    "\n",
    "    res = cv2.matchTemplate(img,template,method) # Results Matrix. \n",
    "    \n",
    "    #use to help set the threshold\n",
    "    min_val, max_val, min_loc, max_loc = cv2.minMaxLoc(res) #Identify max value. \n",
    "    \n",
    "    \n",
    "   \n",
    "    threshold = min_val+threshold  #Guess and check to determine this number.\n",
    "    \n",
    "    loc = np.where( res <= threshold)\n",
    "    count2 = 0\n",
    "    for pt in zip(*loc[::-1]):\n",
    "        \n",
    "        #cv2.rectangle(img, pt, (pt[0] + w, pt[1] + h), (0,0,255), 2)\n",
    "        if pt[0]+w > c or pt[1]+h > r: #Avoid Out of bound error.\n",
    "            print \"out of bounds drawing.\"\n",
    "            pass\n",
    "        else:\n",
    "            \n",
    "            img[pt[1]:pt[1]+h,pt[0]:pt[0]+w] = draw\n",
    "        count2+=1\n",
    "    \n",
    "    \n",
    "    #we take the minimun value from the matching results matrix because we use the SSD method. \n",
    "    plt.figure(num=None, figsize=(8, 6), dpi=2500, facecolor='w', edgecolor='k')\n",
    "    plt.title(\"Replace C with K \")\n",
    "    plt.imshow(img,cmap = 'gray')\n",
    "    plt.savefig(\"Replace C with K\")\n",
    "    \n",
    "    return (\"Number of %s = %d , %d \") % (title,count, count2)\n"
   ]
  },
  {
   "cell_type": "code",
   "execution_count": null,
   "metadata": {
    "collapsed": false
   },
   "outputs": [],
   "source": [
    "# 1. Template 'c' , 'k'\n",
    "# 2. find c and replace with k. \n",
    "# Apply template Matching for font SIZE. "
   ]
  },
  {
   "cell_type": "code",
   "execution_count": null,
   "metadata": {
    "collapsed": false
   },
   "outputs": [],
   "source": [
    "img4 = cv2.imread('Images/Q1/text.jpg',0)\n",
    "template1 = cv2.imread('Images/Q1/c.jpg',0) #Template 1. \n",
    "template2 = cv2.imread('Images/Q1/k.jpg',0)\n",
    "isSameSize = templates_c[0][0].shape ==templates_c[1][0].shape\n",
    "print \"Templates are same size: %s\" %isSameSize\n",
    "template_matching_replace_c_k(img4,template1,\"hello\",300000,template2)"
   ]
  },
  {
   "cell_type": "code",
   "execution_count": null,
   "metadata": {
    "collapsed": true
   },
   "outputs": [],
   "source": []
  },
  {
   "cell_type": "code",
   "execution_count": null,
   "metadata": {
    "collapsed": true
   },
   "outputs": [],
   "source": []
  }
 ],
 "metadata": {
  "kernelspec": {
   "display_name": "Python 2",
   "language": "python",
   "name": "python2"
  },
  "language_info": {
   "codemirror_mode": {
    "name": "ipython",
    "version": 2
   },
   "file_extension": ".py",
   "mimetype": "text/x-python",
   "name": "python",
   "nbconvert_exporter": "python",
   "pygments_lexer": "ipython2",
   "version": "2.7.11"
  }
 },
 "nbformat": 4,
 "nbformat_minor": 0
}
